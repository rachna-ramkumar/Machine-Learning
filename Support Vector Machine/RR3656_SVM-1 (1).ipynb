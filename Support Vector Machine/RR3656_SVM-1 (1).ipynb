{
 "cells": [
  {
   "cell_type": "code",
   "execution_count": 3,
   "metadata": {},
   "outputs": [],
   "source": [
    "import numpy as np\n",
    "import pandas as pd\n",
    "from sklearn import datasets\n",
    "from sklearn.svm import SVC\n",
    "from sklearn.metrics import classification_report\n",
    "from sklearn import svm\n",
    "from sklearn.model_selection import train_test_split"
   ]
  },
  {
   "cell_type": "code",
   "execution_count": 4,
   "metadata": {},
   "outputs": [],
   "source": [
    "iris = datasets.load_iris()\n",
    "X = iris.data \n",
    "y = iris.target \n",
    "X_train, X_test, y_train, y_test = train_test_split(X, y, test_size = 0.4)\n",
    "results = []"
   ]
  },
  {
   "cell_type": "markdown",
   "metadata": {},
   "source": [
    "# Linear SVC"
   ]
  },
  {
   "cell_type": "code",
   "execution_count": 11,
   "metadata": {},
   "outputs": [
    {
     "name": "stdout",
     "output_type": "stream",
     "text": [
      "              precision    recall  f1-score   support\n",
      "\n",
      "           0       1.00      1.00      1.00        19\n",
      "           1       1.00      0.90      0.95        20\n",
      "           2       0.91      1.00      0.95        21\n",
      "\n",
      "    accuracy                           0.97        60\n",
      "   macro avg       0.97      0.97      0.97        60\n",
      "weighted avg       0.97      0.97      0.97        60\n",
      "\n",
      "Accuracy:  0.9666666666666667\n"
     ]
    }
   ],
   "source": [
    "C=1\n",
    "svclassifier = svm.LinearSVC(C=C, max_iter=10000)\n",
    "svclassifier.fit(X_train, y_train)\n",
    "sig_svc = svm.LinearSVC(C=C, max_iter=10000).fit(X_train, y_train)\n",
    "y_pred = sig_svc.predict(X_test)\n",
    "print(classification_report(y_test, y_pred))\n",
    "data = sig_svc.score(X_test, y_test)\n",
    "print(\"Accuracy: \", data)"
   ]
  },
  {
   "cell_type": "markdown",
   "metadata": {},
   "source": [
    "# Poly Kernel"
   ]
  },
  {
   "cell_type": "code",
   "execution_count": 53,
   "metadata": {},
   "outputs": [
    {
     "name": "stdout",
     "output_type": "stream",
     "text": [
      "              precision    recall  f1-score   support\n",
      "\n",
      "           0       1.00      1.00      1.00        22\n",
      "           1       0.88      0.94      0.91        16\n",
      "           2       0.95      0.91      0.93        22\n",
      "\n",
      "    accuracy                           0.95        60\n",
      "   macro avg       0.94      0.95      0.95        60\n",
      "weighted avg       0.95      0.95      0.95        60\n",
      "\n",
      "Accuracy: 0.95\n"
     ]
    }
   ],
   "source": [
    "poly_svclassifier = SVC(kernel='poly', gamma = 'auto', random_state = 0, degree = 8)\n",
    "poly_svclassifier.fit(X_train, y_train)\n",
    "y_pred = poly_svclassifier.predict(X_test)\n",
    "print(classification_report(y_test, y_pred))\n",
    "data = poly_svclassifier.score(X_test, y_test)\n",
    "print(\"Accuracy:\", data)"
   ]
  },
  {
   "cell_type": "markdown",
   "metadata": {},
   "source": [
    "# RBF Kernel"
   ]
  },
  {
   "cell_type": "code",
   "execution_count": 54,
   "metadata": {},
   "outputs": [
    {
     "name": "stdout",
     "output_type": "stream",
     "text": [
      "              precision    recall  f1-score   support\n",
      "\n",
      "           0       1.00      1.00      1.00        22\n",
      "           1       1.00      1.00      1.00        16\n",
      "           2       1.00      1.00      1.00        22\n",
      "\n",
      "    accuracy                           1.00        60\n",
      "   macro avg       1.00      1.00      1.00        60\n",
      "weighted avg       1.00      1.00      1.00        60\n",
      "\n",
      "Accuracy: 1.0\n"
     ]
    }
   ],
   "source": [
    "RBF_svclassifier = SVC(kernel='rbf', gamma = 'auto', random_state = 0, degree = 8)\n",
    "RBF_svclassifier.fit(X_train, y_train)\n",
    "y_pred = RBF_svclassifier.predict(X_test)\n",
    "print(classification_report(y_test, y_pred))\n",
    "data = RBF_svclassifier.score(X_test, y_test)\n",
    "print(\"Accuracy:\", data)"
   ]
  },
  {
   "cell_type": "markdown",
   "metadata": {},
   "source": [
    "# Linear Kernel"
   ]
  },
  {
   "cell_type": "code",
   "execution_count": 55,
   "metadata": {},
   "outputs": [
    {
     "name": "stdout",
     "output_type": "stream",
     "text": [
      "              precision    recall  f1-score   support\n",
      "\n",
      "           0       1.00      1.00      1.00        22\n",
      "           1       0.94      1.00      0.97        16\n",
      "           2       1.00      0.95      0.98        22\n",
      "\n",
      "    accuracy                           0.98        60\n",
      "   macro avg       0.98      0.98      0.98        60\n",
      "weighted avg       0.98      0.98      0.98        60\n",
      "\n",
      "Accuracy: 0.9833333333333333\n"
     ]
    }
   ],
   "source": [
    "linear_svclassifier = SVC(kernel='linear', gamma = 'auto', degree = 8) \n",
    "linear_svclassifier.fit(X_train, y_train)\n",
    "y_pred = linear_svclassifier.predict(X_test)\n",
    "print(classification_report(y_test, y_pred))\n",
    "data = linear_svclassifier.score(X_test, y_test)\n",
    "print(\"Accuracy:\", data)"
   ]
  },
  {
   "cell_type": "code",
   "execution_count": 12,
   "metadata": {},
   "outputs": [
    {
     "name": "stdout",
     "output_type": "stream",
     "text": [
      "+-----------+--------------------+\n",
      "|   Kernel  |      Accuracy      |\n",
      "+-----------+--------------------+\n",
      "| LinearSVC | 0.9666666666666667 |\n",
      "|    Poly   |        0.95        |\n",
      "|    RBF    |        1.0         |\n",
      "|   Linear  | 0.9833333333333333 |\n",
      "+-----------+--------------------+\n"
     ]
    },
    {
     "data": {
      "text/plain": [
       "<prettytable.PrettyTable at 0x7fe973435a90>"
      ]
     },
     "execution_count": 12,
     "metadata": {},
     "output_type": "execute_result"
    }
   ],
   "source": [
    "import pandas as pd\n",
    "from prettytable import PrettyTable\n",
    "\n",
    "data = [['LinearSVC',0.9666666666666667],['Poly',0.95],['RBF',1.0],['Linear',0.9833333333333333]]\n",
    "df = pd.DataFrame(data, columns=['Kernel', 'Accuracy'])\n",
    "\n",
    "def generate_ascii_table(df):\n",
    "    x = PrettyTable()\n",
    "    x.field_names = df.columns.tolist()\n",
    "    for row in df.values:\n",
    "        x.add_row(row)\n",
    "    print(x)\n",
    "    return x\n",
    "\n",
    "generate_ascii_table(df)"
   ]
  },
  {
   "cell_type": "markdown",
   "metadata": {},
   "source": [
    "# Plot The Results"
   ]
  },
  {
   "cell_type": "code",
   "execution_count": 13,
   "metadata": {},
   "outputs": [
    {
     "data": {
      "image/png": "[encoded data removed]",
      "text/plain": [
       "<Figure size 432x288 with 4 Axes>"
      ]
     },
     "metadata": {},
     "output_type": "display_data"
    }
   ],
   "source": [
    "import numpy as np\n",
    "import matplotlib.pyplot as plt\n",
    "from sklearn import svm, datasets\n",
    "def make_meshgrid(x, y, h=.02):\n",
    "    x_min, x_max = x.min() - 1, x.max() + 1\n",
    "    y_min, y_max = y.min() - 1, y.max() + 1\n",
    "    xx, yy = np.meshgrid(np.arange(x_min, x_max, h),\n",
    "                         np.arange(y_min, y_max, h))\n",
    "    return xx, yy\n",
    "def plot_contours(ax, clf, xx, yy, **params):\n",
    "    Z = clf.predict(np.c_[xx.ravel(), yy.ravel()])\n",
    "    Z = Z.reshape(xx.shape)\n",
    "    out = ax.contourf(xx, yy, Z, **params)\n",
    "    return out\n",
    "iris = datasets.load_iris()\n",
    "X = iris.data[:, :2]\n",
    "y = iris.target\n",
    "C = 1.0 \n",
    "figures = (svm.SVC(kernel='linear', gamma = 'auto', degree = 8), \n",
    "          svm.LinearSVC(C=C, max_iter=10000),\n",
    "          svm.SVC(kernel='rbf', gamma=0.7, C=C),\n",
    "          svm.SVC(kernel='poly', degree=3, gamma='auto', C=C))\n",
    "figures = (clf.fit(X, y) for clf in figures)\n",
    "titles = ('Linear kernel',\n",
    "          'LinearSVC kernel',\n",
    "          'RBF kernel',\n",
    "          'Polynomial kernel')\n",
    "fig, sub = plt.subplots(2, 2)\n",
    "plt.subplots_adjust(wspace=0.4, hspace=0.4)\n",
    "X0, X1 = X[:, 0], X[:, 1]\n",
    "xx, yy = make_meshgrid(X0, X1)\n",
    "for clf, title, ax in zip(figures, titles, sub.flatten()):\n",
    "    plot_contours(ax, clf, xx, yy,\n",
    "                  cmap=plt.cm.coolwarm, alpha=0.8)\n",
    "    ax.scatter(X0, X1, c=y, cmap=plt.cm.coolwarm, s=20, edgecolors='k')\n",
    "    ax.set_xlim(xx.min(), xx.max())\n",
    "    ax.set_ylim(yy.min(), yy.max())\n",
    "    ax.set_xlabel('Sepal length')\n",
    "    ax.set_ylabel('Sepal width')\n",
    "    ax.set_xticks(())\n",
    "    ax.set_yticks(())\n",
    "    ax.set_title(title)\n",
    "plt.show()"
   ]
  },
  {
   "cell_type": "markdown",
   "metadata": {},
   "source": [
    "# For the Given Assignment, 4 SVM Kernels : Linear Kernel, LinearSVC Kernel, RBF Kernel and Polynomial Kernel were were applied on the Iris Dataset. The accuracy varies based on the kernel that we used and also everytime we reran the kernel the accuracy changed.\n",
    "\n",
    "# Based on the results we can conclude that, the RBF kernel had the highest accuracy of 1.0 and also the dataset is not Poly as the sigmoid kernel had the lowest accuracy of 0.95\n",
    "\n",
    "# The linear model SVC(kernel='linear') yield slightly different decision boundaries. This can be a consequence of the following differences:\n",
    "\n",
    "# LinearSVC minimizes the squared hinge loss while SVC minimizes the regular hinge loss.\n",
    "\n",
    "# LinearSVC uses the One-vs-All multiclass reduction while SVC uses the One-vs-One multiclass reduction.\n",
    "\n",
    "# Both linear models have linear decision boundaries  while the non-linear kernel models have more flexible non-linear decision boundaries with shapes that depend on the kind of kernel and its parameters."
   ]
  },
  {
   "cell_type": "markdown",
   "metadata": {},
   "source": [
    "# REFERENCES :\n",
    "# 1. (Python Machine Learning Textbook)\n",
    "# 2. www.Stackoverflow.com\n",
    "# 3. https://scikit-learn.org/stable/"
   ]
  }
 ],
 "metadata": {
  "kernelspec": {
   "display_name": "Python 3",
   "language": "python",
   "name": "python3"
  },
  "language_info": {
   "codemirror_mode": {
    "name": "ipython",
    "version": 3
   },
   "file_extension": ".py",
   "mimetype": "text/x-python",
   "name": "python",
   "nbconvert_exporter": "python",
   "pygments_lexer": "ipython3",
   "version": "3.7.6"
  }
 },
 "nbformat": 4,
 "nbformat_minor": 4
}
